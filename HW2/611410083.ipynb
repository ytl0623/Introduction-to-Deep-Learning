{
  "cells": [
    {
      "cell_type": "markdown",
      "metadata": {
        "id": "Xll55HAyCnta"
      },
      "source": [
        "# Keras tutorial - the Happy House\n",
        "\n",
        "Welcome to the Keras tutorial. In this tutorial, you will:\n",
        "1. Learn to use Keras, a high-level neural networks API (programming framework), written in Python and capable of running on top of several lower-level frameworks including TensorFlow and CNTK. \n",
        "2. See how you can in a couple of hours build a deep learning algorithm.\n",
        "\n",
        "Why are we using Keras? Keras was developed to enable deep learning engineers to build and experiment with different models very quickly. Just as TensorFlow is a higher-level framework than Python, Keras is an even higher-level framework and provides additional abstractions. Being able to go from idea to result with the least possible delay is key to finding good models. However, Keras is more restrictive than the lower-level frameworks, so there are some very complex models that you can implement in TensorFlow but not (without more difficulty) in Keras. That being said, Keras will work fine for many common models. \n",
        "\n",
        "In this exercise, you'll work on the \"Happy House\" problem, which we'll explain below. Let's load the required packages and solve the problem of the Happy House!"
      ]
    },
    {
      "cell_type": "code",
      "execution_count": 1,
      "metadata": {
        "id": "TYjM8rYRCntd"
      },
      "outputs": [],
      "source": [
        "import numpy as np\n",
        "from keras import layers\n",
        "from keras.layers import Input, Dense, Activation, ZeroPadding2D, BatchNormalization, Flatten, Conv2D\n",
        "from keras.layers import AveragePooling2D, MaxPooling2D, Dropout, GlobalMaxPooling2D, GlobalAveragePooling2D\n",
        "from keras.models import Model\n",
        "from keras.preprocessing import image\n",
        "from keras.utils import layer_utils\n",
        "from keras.utils.data_utils import get_file\n",
        "from keras.applications.imagenet_utils import preprocess_input\n",
        "import pydot\n",
        "from IPython.display import SVG\n",
        "from keras.utils.vis_utils import model_to_dot\n",
        "from keras.utils.vis_utils import plot_model\n",
        "import keras.backend as K\n",
        "K.set_image_data_format('channels_last')\n",
        "import matplotlib.pyplot as plt\n",
        "from matplotlib.pyplot import imshow\n",
        "\n",
        "import os\n",
        "\n",
        "\n",
        "%matplotlib inline"
      ]
    },
    {
      "cell_type": "code",
      "source": [
        "from google.colab import files\n",
        "#Upload \"test_happy.h5\" & \"train_happy.h5\" file\n",
        "uploaded = files.upload()"
      ],
      "metadata": {
        "id": "I1NnxLSdEF6q",
        "colab": {
          "base_uri": "https://localhost:8080/",
          "height": 109
        },
        "outputId": "37592c6f-4550-4e49-b48d-e697f627cfc4"
      },
      "execution_count": 2,
      "outputs": [
        {
          "output_type": "display_data",
          "data": {
            "text/plain": [
              "<IPython.core.display.HTML object>"
            ],
            "text/html": [
              "\n",
              "     <input type=\"file\" id=\"files-5db81ca5-2b89-480a-a2b5-d0f60b418f4c\" name=\"files[]\" multiple disabled\n",
              "        style=\"border:none\" />\n",
              "     <output id=\"result-5db81ca5-2b89-480a-a2b5-d0f60b418f4c\">\n",
              "      Upload widget is only available when the cell has been executed in the\n",
              "      current browser session. Please rerun this cell to enable.\n",
              "      </output>\n",
              "      <script>// Copyright 2017 Google LLC\n",
              "//\n",
              "// Licensed under the Apache License, Version 2.0 (the \"License\");\n",
              "// you may not use this file except in compliance with the License.\n",
              "// You may obtain a copy of the License at\n",
              "//\n",
              "//      http://www.apache.org/licenses/LICENSE-2.0\n",
              "//\n",
              "// Unless required by applicable law or agreed to in writing, software\n",
              "// distributed under the License is distributed on an \"AS IS\" BASIS,\n",
              "// WITHOUT WARRANTIES OR CONDITIONS OF ANY KIND, either express or implied.\n",
              "// See the License for the specific language governing permissions and\n",
              "// limitations under the License.\n",
              "\n",
              "/**\n",
              " * @fileoverview Helpers for google.colab Python module.\n",
              " */\n",
              "(function(scope) {\n",
              "function span(text, styleAttributes = {}) {\n",
              "  const element = document.createElement('span');\n",
              "  element.textContent = text;\n",
              "  for (const key of Object.keys(styleAttributes)) {\n",
              "    element.style[key] = styleAttributes[key];\n",
              "  }\n",
              "  return element;\n",
              "}\n",
              "\n",
              "// Max number of bytes which will be uploaded at a time.\n",
              "const MAX_PAYLOAD_SIZE = 100 * 1024;\n",
              "\n",
              "function _uploadFiles(inputId, outputId) {\n",
              "  const steps = uploadFilesStep(inputId, outputId);\n",
              "  const outputElement = document.getElementById(outputId);\n",
              "  // Cache steps on the outputElement to make it available for the next call\n",
              "  // to uploadFilesContinue from Python.\n",
              "  outputElement.steps = steps;\n",
              "\n",
              "  return _uploadFilesContinue(outputId);\n",
              "}\n",
              "\n",
              "// This is roughly an async generator (not supported in the browser yet),\n",
              "// where there are multiple asynchronous steps and the Python side is going\n",
              "// to poll for completion of each step.\n",
              "// This uses a Promise to block the python side on completion of each step,\n",
              "// then passes the result of the previous step as the input to the next step.\n",
              "function _uploadFilesContinue(outputId) {\n",
              "  const outputElement = document.getElementById(outputId);\n",
              "  const steps = outputElement.steps;\n",
              "\n",
              "  const next = steps.next(outputElement.lastPromiseValue);\n",
              "  return Promise.resolve(next.value.promise).then((value) => {\n",
              "    // Cache the last promise value to make it available to the next\n",
              "    // step of the generator.\n",
              "    outputElement.lastPromiseValue = value;\n",
              "    return next.value.response;\n",
              "  });\n",
              "}\n",
              "\n",
              "/**\n",
              " * Generator function which is called between each async step of the upload\n",
              " * process.\n",
              " * @param {string} inputId Element ID of the input file picker element.\n",
              " * @param {string} outputId Element ID of the output display.\n",
              " * @return {!Iterable<!Object>} Iterable of next steps.\n",
              " */\n",
              "function* uploadFilesStep(inputId, outputId) {\n",
              "  const inputElement = document.getElementById(inputId);\n",
              "  inputElement.disabled = false;\n",
              "\n",
              "  const outputElement = document.getElementById(outputId);\n",
              "  outputElement.innerHTML = '';\n",
              "\n",
              "  const pickedPromise = new Promise((resolve) => {\n",
              "    inputElement.addEventListener('change', (e) => {\n",
              "      resolve(e.target.files);\n",
              "    });\n",
              "  });\n",
              "\n",
              "  const cancel = document.createElement('button');\n",
              "  inputElement.parentElement.appendChild(cancel);\n",
              "  cancel.textContent = 'Cancel upload';\n",
              "  const cancelPromise = new Promise((resolve) => {\n",
              "    cancel.onclick = () => {\n",
              "      resolve(null);\n",
              "    };\n",
              "  });\n",
              "\n",
              "  // Wait for the user to pick the files.\n",
              "  const files = yield {\n",
              "    promise: Promise.race([pickedPromise, cancelPromise]),\n",
              "    response: {\n",
              "      action: 'starting',\n",
              "    }\n",
              "  };\n",
              "\n",
              "  cancel.remove();\n",
              "\n",
              "  // Disable the input element since further picks are not allowed.\n",
              "  inputElement.disabled = true;\n",
              "\n",
              "  if (!files) {\n",
              "    return {\n",
              "      response: {\n",
              "        action: 'complete',\n",
              "      }\n",
              "    };\n",
              "  }\n",
              "\n",
              "  for (const file of files) {\n",
              "    const li = document.createElement('li');\n",
              "    li.append(span(file.name, {fontWeight: 'bold'}));\n",
              "    li.append(span(\n",
              "        `(${file.type || 'n/a'}) - ${file.size} bytes, ` +\n",
              "        `last modified: ${\n",
              "            file.lastModifiedDate ? file.lastModifiedDate.toLocaleDateString() :\n",
              "                                    'n/a'} - `));\n",
              "    const percent = span('0% done');\n",
              "    li.appendChild(percent);\n",
              "\n",
              "    outputElement.appendChild(li);\n",
              "\n",
              "    const fileDataPromise = new Promise((resolve) => {\n",
              "      const reader = new FileReader();\n",
              "      reader.onload = (e) => {\n",
              "        resolve(e.target.result);\n",
              "      };\n",
              "      reader.readAsArrayBuffer(file);\n",
              "    });\n",
              "    // Wait for the data to be ready.\n",
              "    let fileData = yield {\n",
              "      promise: fileDataPromise,\n",
              "      response: {\n",
              "        action: 'continue',\n",
              "      }\n",
              "    };\n",
              "\n",
              "    // Use a chunked sending to avoid message size limits. See b/62115660.\n",
              "    let position = 0;\n",
              "    do {\n",
              "      const length = Math.min(fileData.byteLength - position, MAX_PAYLOAD_SIZE);\n",
              "      const chunk = new Uint8Array(fileData, position, length);\n",
              "      position += length;\n",
              "\n",
              "      const base64 = btoa(String.fromCharCode.apply(null, chunk));\n",
              "      yield {\n",
              "        response: {\n",
              "          action: 'append',\n",
              "          file: file.name,\n",
              "          data: base64,\n",
              "        },\n",
              "      };\n",
              "\n",
              "      let percentDone = fileData.byteLength === 0 ?\n",
              "          100 :\n",
              "          Math.round((position / fileData.byteLength) * 100);\n",
              "      percent.textContent = `${percentDone}% done`;\n",
              "\n",
              "    } while (position < fileData.byteLength);\n",
              "  }\n",
              "\n",
              "  // All done.\n",
              "  yield {\n",
              "    response: {\n",
              "      action: 'complete',\n",
              "    }\n",
              "  };\n",
              "}\n",
              "\n",
              "scope.google = scope.google || {};\n",
              "scope.google.colab = scope.google.colab || {};\n",
              "scope.google.colab._files = {\n",
              "  _uploadFiles,\n",
              "  _uploadFilesContinue,\n",
              "};\n",
              "})(self);\n",
              "</script> "
            ]
          },
          "metadata": {}
        },
        {
          "output_type": "stream",
          "name": "stdout",
          "text": [
            "Saving test_happy.h5 to test_happy (1).h5\n",
            "Saving train_happy.h5 to train_happy (1).h5\n"
          ]
        }
      ]
    },
    {
      "cell_type": "code",
      "source": [
        "import keras.backend as K\n",
        "import math\n",
        "import numpy as np\n",
        "import h5py\n",
        "import matplotlib.pyplot as plt\n",
        "\n",
        "\n",
        "def mean_pred(y_true, y_pred):\n",
        "    return K.mean(y_pred)\n",
        "\n",
        "def load_dataset():\n",
        "    train_dataset = h5py.File('train_happy.h5', \"r\")\n",
        "    train_set_x_orig = np.array(train_dataset[\"train_set_x\"][:]) # your train set features\n",
        "    train_set_y_orig = np.array(train_dataset[\"train_set_y\"][:]) # your train set labels\n",
        "\n",
        "    test_dataset = h5py.File('test_happy.h5', \"r\")\n",
        "    test_set_x_orig = np.array(test_dataset[\"test_set_x\"][:]) # your test set features\n",
        "    test_set_y_orig = np.array(test_dataset[\"test_set_y\"][:]) # your test set labels\n",
        "\n",
        "    classes = np.array(test_dataset[\"list_classes\"][:]) # the list of classes\n",
        "    \n",
        "    train_set_y_orig = train_set_y_orig.reshape((1, train_set_y_orig.shape[0]))\n",
        "    test_set_y_orig = test_set_y_orig.reshape((1, test_set_y_orig.shape[0]))\n",
        "    \n",
        "    return train_set_x_orig, train_set_y_orig, test_set_x_orig, test_set_y_orig, classes"
      ],
      "metadata": {
        "id": "NfijhLeADjp3"
      },
      "execution_count": 3,
      "outputs": []
    },
    {
      "cell_type": "markdown",
      "metadata": {
        "id": "PK0pRokuCntf"
      },
      "source": [
        "**Note**: As you can see, we've imported a lot of functions from Keras. You can use them easily just by calling them directly in the notebook. Ex: `X = Input(...)` or `X = ZeroPadding2D(...)`."
      ]
    },
    {
      "cell_type": "markdown",
      "metadata": {
        "id": "BFn5JGTJCntf"
      },
      "source": [
        "## 1 - The Happy House \n",
        "\n",
        "For your next vacation, you decided to spend a week with five of your friends from school. It is a very convenient house with many things to do nearby. But the most important benefit is that everybody has commited to be happy when they are in the house. So anyone wanting to enter the house must prove their current state of happiness.\n",
        "\n",
        "![happy-house](https://drive.google.com/uc?export=view&id=1GFAf4D0kd9ly5GXUa4_WW8whs3GlXizB)\n",
        "\n",
        "<caption><center> <u> <font color='purple'> **Figure 1** </u><font color='purple'>  : **the Happy House**</center></caption>\n",
        "\n",
        "\n",
        "As a deep learning expert, to make sure the \"Happy\" rule is strictly applied, you are going to build an algorithm which that uses pictures from the front door camera to check if the person is happy or not. The door should open only if the person is happy. \n",
        "\n",
        "You have gathered pictures of your friends and yourself, taken by the front-door camera. The dataset is labbeled. \n",
        "\n",
        "\n",
        "![house-members](https://drive.google.com/uc?export=view&id=1Q57cgSIoejHLvbCkfN4y-MBoHfYb8aee)\n",
        "\n",
        "\n",
        "Run the following code to normalize the dataset and learn about its shapes."
      ]
    },
    {
      "cell_type": "code",
      "execution_count": 4,
      "metadata": {
        "colab": {
          "base_uri": "https://localhost:8080/"
        },
        "id": "WE9gUFL1Cntg",
        "outputId": "cb6276bd-e5df-4f4d-a132-9ed3aee77f40"
      },
      "outputs": [
        {
          "output_type": "stream",
          "name": "stdout",
          "text": [
            "number of training examples = 600\n",
            "number of test examples = 150\n",
            "X_train shape: (600, 64, 64, 3)\n",
            "Y_train shape: (600, 1)\n",
            "X_test shape: (150, 64, 64, 3)\n",
            "Y_test shape: (150, 1)\n"
          ]
        }
      ],
      "source": [
        "X_train_orig, Y_train_orig, X_test_orig, Y_test_orig, classes = load_dataset()\n",
        "\n",
        "# Normalize image vectors\n",
        "X_train = X_train_orig/255.\n",
        "X_test = X_test_orig/255.\n",
        "\n",
        "# Reshape\n",
        "Y_train = Y_train_orig.T\n",
        "Y_test = Y_test_orig.T\n",
        "\n",
        "print (\"number of training examples = \" + str(X_train.shape[0]))\n",
        "print (\"number of test examples = \" + str(X_test.shape[0]))\n",
        "print (\"X_train shape: \" + str(X_train.shape))\n",
        "print (\"Y_train shape: \" + str(Y_train.shape))\n",
        "print (\"X_test shape: \" + str(X_test.shape))\n",
        "print (\"Y_test shape: \" + str(Y_test.shape))"
      ]
    },
    {
      "cell_type": "markdown",
      "metadata": {
        "id": "K8_8VujiCnth"
      },
      "source": [
        "**Details of the \"Happy\" dataset**:\n",
        "- Images are of shape (64,64,3)\n",
        "- Training: 600 pictures\n",
        "- Test: 150 pictures\n",
        "\n",
        "It is now time to solve the \"Happy\" Challenge."
      ]
    },
    {
      "cell_type": "markdown",
      "metadata": {
        "id": "WsfyBnpaCnti"
      },
      "source": [
        "## 2 - Building a model in Keras\n",
        "\n",
        "Keras is very good for rapid prototyping. In just a short time you will be able to build a model that achieves outstanding results.\n",
        "\n",
        "Here is an example of a model in Keras:\n",
        "\n",
        "```python\n",
        "def model(input_shape):\n",
        "    # Define the input placeholder as a tensor with shape input_shape. Think of this as your input image!\n",
        "    X_input = Input(input_shape)\n",
        "\n",
        "    # Zero-Padding: pads the border of X_input with zeroes\n",
        "    X = ZeroPadding2D((3, 3))(X_input)\n",
        "\n",
        "    # CONV -> BN -> RELU Block applied to X\n",
        "    X = Conv2D(32, (7, 7), strides = (1, 1), name = 'conv0')(X)\n",
        "    X = BatchNormalization(axis = 3, name = 'bn0')(X)\n",
        "    X = Activation('relu')(X)\n",
        "\n",
        "    # MAXPOOL\n",
        "    X = MaxPooling2D((2, 2), name='max_pool')(X)\n",
        "\n",
        "    # FLATTEN X (means convert it to a vector) + FULLYCONNECTED\n",
        "    X = Flatten()(X)\n",
        "    X = Dense(1, activation='sigmoid', name='fc')(X)\n",
        "\n",
        "    # Create model. This creates your Keras model instance, you'll use this instance to train/test the model.\n",
        "    model = Model(inputs = X_input, outputs = X, name='HappyModel')\n",
        "    \n",
        "    return model\n",
        "```\n",
        "\n",
        "Note that Keras uses a different convention with variable names than we've previously used with numpy and TensorFlow. In particular, rather than creating and assigning a new variable on each step of forward propagation such as `X`, `Z1`, `A1`, `Z2`, `A2`, etc. for the computations for the different layers, in Keras code each line above just reassigns `X` to a new value using `X = ...`. In other words, during each step of forward propagation, we are just writing the latest value in the commputation into the same variable `X`. The only exception was `X_input`, which we kept separate and did not overwrite, since we needed it at the end to create the Keras model instance (`model = Model(inputs = X_input, ...)` above). \n",
        "\n",
        "**Exercise**: Implement a `HappyModel()`. This assignment is more open-ended than most. We suggest that you start by implementing a model using the architecture we suggest, and run through the rest of this assignment using that as your initial model. But after that, come back and take initiative to try out other model architectures. For example, you might take inspiration from the model above, but then vary the network architecture and hyperparameters however you wish. You can also use other functions such as `AveragePooling2D()`, `GlobalMaxPooling2D()`, `Dropout()`. \n",
        "\n",
        "**Note**: You have to be careful with your data's shapes. Use what you've learned in the videos to make sure your convolutional, pooling and fully-connected layers are adapted to the volumes you're applying it to."
      ]
    },
    {
      "cell_type": "code",
      "execution_count": 5,
      "metadata": {
        "id": "FV7qBRQuCnti"
      },
      "outputs": [],
      "source": [
        "# GRADED FUNCTION: HappyModel\n",
        "\n",
        "def HappyModel(input_shape):\n",
        "    \"\"\"\n",
        "    Implementation of the HappyModel.\n",
        "\n",
        "    Arguments:\n",
        "    input_shape -- shape of the images of the dataset\n",
        "\n",
        "    Returns:\n",
        "    model -- a Model() instance in Keras\n",
        "    \"\"\"\n",
        "\n",
        "    ### START CODE HERE ###\n",
        "    # Feel free to use the suggested outline in the text above to get started, and run through the whole\n",
        "    # exercise (including the later portions of this notebook) once. The come back also try out other\n",
        "    # network architectures as well. \n",
        "\n",
        "    # Define the input placeholder as a tensor with shape input_shape. Think of this as your input image!\n",
        "    X_input = Input(input_shape)\n",
        "\n",
        "    # Zero-Padding: pads the border of X_input with zeroes\n",
        "    X = ZeroPadding2D((3, 3))(X_input)\n",
        "\n",
        "    # CONV -> BN -> RELU Block applied to X\n",
        "    X = Conv2D(32, (7, 7), strides = (1, 1), name = 'conv0')(X)\n",
        "    X = BatchNormalization(axis = 3, name = 'bn0')(X)\n",
        "    X = Activation('relu')(X)\n",
        "\n",
        "    # MAXPOOL\n",
        "    X = MaxPooling2D((2, 2), name='max_pool')(X)\n",
        "\n",
        "    # FLATTEN X (means convert it to a vector) + FULLYCONNECTED\n",
        "    X = Flatten()(X)\n",
        "    X = Dense(1, activation='sigmoid', name='fc')(X)\n",
        "\n",
        "    # Create model. This creates your Keras model instance, you'll use this instance to train/test the model.\n",
        "    model = Model(inputs = X_input, outputs = X, name='HappyModel')    \n",
        "\n",
        "    ### END CODE HERE ###\n",
        "\n",
        "    return model"
      ]
    },
    {
      "cell_type": "markdown",
      "metadata": {
        "id": "7XDaPIN1Cntj"
      },
      "source": [
        "You have now built a function to describe your model. To train and test this model, there are four steps in Keras:\n",
        "1. Create the model by calling the function above\n",
        "2. Compile the model by calling `model.compile(optimizer = \"...\", loss = \"...\", metrics = [\"accuracy\"])`\n",
        "3. Train the model on train data by calling `model.fit(x = ..., y = ..., epochs = ..., batch_size = ...)`\n",
        "4. Test the model on test data by calling `model.evaluate(x = ..., y = ...)`\n",
        "\n",
        "If you want to know more about `model.compile()`, `model.fit()`, `model.evaluate()` and their arguments, refer to the official [Keras documentation](https://keras.io/models/model/).\n",
        "\n",
        "**Exercise**: Implement step 1, i.e. create the model."
      ]
    },
    {
      "cell_type": "code",
      "execution_count": 6,
      "metadata": {
        "id": "S21wxcF7Cntj"
      },
      "outputs": [],
      "source": [
        "### START CODE HERE ### (1 line)\n",
        "\n",
        "happyModel = HappyModel((64,64,3))\n",
        "\n",
        "### END CODE HERE ###"
      ]
    },
    {
      "cell_type": "markdown",
      "metadata": {
        "id": "TMPglqPkCntk"
      },
      "source": [
        "**Exercise**: Implement step 2, i.e. compile the model to configure the learning process. Choose the 3 arguments of `compile()` wisely. Hint: the Happy Challenge is a binary classification problem."
      ]
    },
    {
      "cell_type": "code",
      "execution_count": 7,
      "metadata": {
        "id": "enB3wt8eCntk"
      },
      "outputs": [],
      "source": [
        "### START CODE HERE ### (1 line)\n",
        "\n",
        "happyModel.compile(optimizer = \"adam\",loss = \"binary_crossentropy\",metrics = [\"accuracy\"])\n",
        "\n",
        "### END CODE HERE ###"
      ]
    },
    {
      "cell_type": "markdown",
      "metadata": {
        "id": "j4DCFCwrCntk"
      },
      "source": [
        "**Exercise**: Implement step 3, i.e. train the model. Choose the number of epochs and the batch size."
      ]
    },
    {
      "cell_type": "code",
      "execution_count": 8,
      "metadata": {
        "colab": {
          "base_uri": "https://localhost:8080/"
        },
        "id": "8VRh09eRCntl",
        "outputId": "68413a41-b4fc-4c1f-e94b-213de0d6b180"
      },
      "outputs": [
        {
          "output_type": "stream",
          "name": "stdout",
          "text": [
            "Epoch 1/40\n",
            "38/38 [==============================] - 7s 145ms/step - loss: 0.6169 - accuracy: 0.7933\n",
            "Epoch 2/40\n",
            "38/38 [==============================] - 5s 121ms/step - loss: 0.3020 - accuracy: 0.8833\n",
            "Epoch 3/40\n",
            "38/38 [==============================] - 6s 161ms/step - loss: 0.1198 - accuracy: 0.9633\n",
            "Epoch 4/40\n",
            "38/38 [==============================] - 5s 121ms/step - loss: 0.1237 - accuracy: 0.9467\n",
            "Epoch 5/40\n",
            "38/38 [==============================] - 5s 127ms/step - loss: 0.1045 - accuracy: 0.9617\n",
            "Epoch 6/40\n",
            "38/38 [==============================] - 6s 151ms/step - loss: 0.0984 - accuracy: 0.9633\n",
            "Epoch 7/40\n",
            "38/38 [==============================] - 5s 120ms/step - loss: 0.1423 - accuracy: 0.9467\n",
            "Epoch 8/40\n",
            "38/38 [==============================] - 6s 160ms/step - loss: 0.1234 - accuracy: 0.9517\n",
            "Epoch 9/40\n",
            "38/38 [==============================] - 5s 120ms/step - loss: 0.0877 - accuracy: 0.9667\n",
            "Epoch 10/40\n",
            "38/38 [==============================] - 5s 124ms/step - loss: 0.0702 - accuracy: 0.9750\n",
            "Epoch 11/40\n",
            "38/38 [==============================] - 6s 156ms/step - loss: 0.0950 - accuracy: 0.9667\n",
            "Epoch 12/40\n",
            "38/38 [==============================] - 5s 121ms/step - loss: 0.1490 - accuracy: 0.9433\n",
            "Epoch 13/40\n",
            "38/38 [==============================] - 6s 160ms/step - loss: 0.1519 - accuracy: 0.9600\n",
            "Epoch 14/40\n",
            "38/38 [==============================] - 5s 121ms/step - loss: 0.2438 - accuracy: 0.9317\n",
            "Epoch 15/40\n",
            "38/38 [==============================] - 5s 119ms/step - loss: 0.0966 - accuracy: 0.9717\n",
            "Epoch 16/40\n",
            "38/38 [==============================] - 6s 158ms/step - loss: 0.0519 - accuracy: 0.9833\n",
            "Epoch 17/40\n",
            "38/38 [==============================] - 5s 119ms/step - loss: 0.1006 - accuracy: 0.9767\n",
            "Epoch 18/40\n",
            "38/38 [==============================] - 6s 160ms/step - loss: 0.0650 - accuracy: 0.9800\n",
            "Epoch 19/40\n",
            "38/38 [==============================] - 4s 117ms/step - loss: 0.0855 - accuracy: 0.9717\n",
            "Epoch 20/40\n",
            "38/38 [==============================] - 5s 122ms/step - loss: 0.0564 - accuracy: 0.9833\n",
            "Epoch 21/40\n",
            "38/38 [==============================] - 6s 160ms/step - loss: 0.0572 - accuracy: 0.9800\n",
            "Epoch 22/40\n",
            "38/38 [==============================] - 5s 120ms/step - loss: 0.0341 - accuracy: 0.9867\n",
            "Epoch 23/40\n",
            "38/38 [==============================] - 6s 154ms/step - loss: 0.0260 - accuracy: 0.9900\n",
            "Epoch 24/40\n",
            "38/38 [==============================] - 5s 126ms/step - loss: 0.0619 - accuracy: 0.9817\n",
            "Epoch 25/40\n",
            "38/38 [==============================] - 5s 121ms/step - loss: 0.1540 - accuracy: 0.9567\n",
            "Epoch 26/40\n",
            "38/38 [==============================] - 6s 158ms/step - loss: 0.0589 - accuracy: 0.9817\n",
            "Epoch 27/40\n",
            "38/38 [==============================] - 5s 121ms/step - loss: 0.0569 - accuracy: 0.9900\n",
            "Epoch 28/40\n",
            "38/38 [==============================] - 5s 142ms/step - loss: 0.0244 - accuracy: 0.9917\n",
            "Epoch 29/40\n",
            "38/38 [==============================] - 5s 133ms/step - loss: 0.1132 - accuracy: 0.9683\n",
            "Epoch 30/40\n",
            "38/38 [==============================] - 5s 120ms/step - loss: 0.0502 - accuracy: 0.9867\n",
            "Epoch 31/40\n",
            "38/38 [==============================] - 6s 159ms/step - loss: 0.0603 - accuracy: 0.9833\n",
            "Epoch 32/40\n",
            "38/38 [==============================] - 5s 119ms/step - loss: 0.0322 - accuracy: 0.9900\n",
            "Epoch 33/40\n",
            "38/38 [==============================] - 5s 132ms/step - loss: 0.0522 - accuracy: 0.9817\n",
            "Epoch 34/40\n",
            "38/38 [==============================] - 6s 144ms/step - loss: 0.0366 - accuracy: 0.9900\n",
            "Epoch 35/40\n",
            "38/38 [==============================] - 5s 122ms/step - loss: 0.0669 - accuracy: 0.9717\n",
            "Epoch 36/40\n",
            "38/38 [==============================] - 6s 161ms/step - loss: 0.0779 - accuracy: 0.9733\n",
            "Epoch 37/40\n",
            "38/38 [==============================] - 5s 119ms/step - loss: 0.0190 - accuracy: 0.9900\n",
            "Epoch 38/40\n",
            "38/38 [==============================] - 4s 118ms/step - loss: 0.0720 - accuracy: 0.9800\n",
            "Epoch 39/40\n",
            "38/38 [==============================] - 6s 157ms/step - loss: 0.0396 - accuracy: 0.9850\n",
            "Epoch 40/40\n",
            "38/38 [==============================] - 5s 119ms/step - loss: 0.0116 - accuracy: 0.9933\n"
          ]
        },
        {
          "output_type": "execute_result",
          "data": {
            "text/plain": [
              "<keras.callbacks.History at 0x7fb33d662850>"
            ]
          },
          "metadata": {},
          "execution_count": 8
        }
      ],
      "source": [
        "### START CODE HERE ### (1 line)\n",
        "\n",
        "happyModel.fit(x = X_train,y = Y_train,epochs =40 ,batch_size = 16 )\n",
        "\n",
        "### END CODE HERE ###"
      ]
    },
    {
      "cell_type": "markdown",
      "metadata": {
        "id": "fL0S8rvtCntl"
      },
      "source": [
        "Note that if you run `fit()` again, the `model` will continue to train with the parameters it has already learnt instead of reinitializing them.\n",
        "\n",
        "**Exercise**: Implement step 4, i.e. test/evaluate the model."
      ]
    },
    {
      "cell_type": "code",
      "execution_count": 9,
      "metadata": {
        "scrolled": true,
        "colab": {
          "base_uri": "https://localhost:8080/"
        },
        "id": "uAlx2O6YCntl",
        "outputId": "a38ccafe-e7c4-4adf-b389-963009a4a706"
      },
      "outputs": [
        {
          "output_type": "stream",
          "name": "stdout",
          "text": [
            "5/5 [==============================] - 1s 64ms/step - loss: 0.1260 - accuracy: 0.9333\n",
            "\n",
            "Loss = 0.1260402649641037\n",
            "Test Accuracy = 0.9333333373069763\n"
          ]
        }
      ],
      "source": [
        "### START CODE HERE ### (1 line)\n",
        "\n",
        "preds = happyModel.evaluate(x = X_test,y = Y_test)\n",
        "\n",
        "### END CODE HERE ###\n",
        "\n",
        "print()\n",
        "print (\"Loss = \" + str(preds[0]))\n",
        "print (\"Test Accuracy = \" + str(preds[1]))"
      ]
    },
    {
      "cell_type": "markdown",
      "metadata": {
        "id": "TD_IH4tJCntl"
      },
      "source": [
        "If your `happyModel()` function worked, you should have observed much better than random-guessing (50%) accuracy on the train and test sets. To pass this assignment, you have to get at least 75% accuracy. \n",
        "\n",
        "To give you a point of comparison, our model gets around **95% test accuracy in 40 epochs** (and 99% train accuracy) with a mini batch size of 16 and \"adam\" optimizer. But our model gets decent accuracy after just 2-5 epochs, so if you're comparing different models you can also train a variety of models on just a few epochs and see how they compare. \n",
        "\n",
        "If you have not yet achieved 75% accuracy, here're some things you can play around with to try to achieve it:\n",
        "\n",
        "- Try using blocks of CONV->BATCHNORM->RELU such as:\n",
        "```python\n",
        "X = Conv2D(32, (3, 3), strides = (1, 1), name = 'conv0')(X)\n",
        "X = BatchNormalization(axis = 3, name = 'bn0')(X)\n",
        "X = Activation('relu')(X)\n",
        "```\n",
        "until your height and width dimensions are quite low and your number of channels quite large (≈32 for example). You are encoding useful information in a volume with a lot of channels. You can then flatten the volume and use a fully-connected layer.\n",
        "- You can use MAXPOOL after such blocks. It will help you lower the dimension in height and width.\n",
        "- Change your optimizer. We find Adam works well. \n",
        "- If the model is struggling to run and you get memory issues, lower your batch_size (12 is usually a good compromise)\n",
        "- Run on more epochs, until you see the train accuracy plateauing. \n",
        "\n",
        "Even if you have achieved 75% accuracy, please feel free to keep playing with your model to try to get even better results. \n",
        "\n",
        "**Note**: If you perform hyperparameter tuning on your model, the test set actually becomes a dev set, and your model might end up overfitting to the test (dev) set. But just for the purpose of this assignment, we won't worry about that here.\n"
      ]
    },
    {
      "cell_type": "markdown",
      "metadata": {
        "id": "jHg_mL1vCntm"
      },
      "source": [
        "## 3 - Conclusion\n",
        "\n",
        "Congratulations, you have solved the Happy House challenge! \n",
        "\n",
        "Now, you just need to link this model to the front-door camera of your house. We unfortunately won't go into the details of how to do that here. "
      ]
    },
    {
      "cell_type": "markdown",
      "metadata": {
        "id": "jpHS0AhCCntm"
      },
      "source": [
        "<font color='blue'>\n",
        "**What we would like you to remember from this assignment:**\n",
        "- Keras is a tool we recommend for rapid prototyping. It allows you to quickly try out different model architectures. Are there any applications of deep learning to your daily life that you'd like to implement using Keras? \n",
        "- Remember how to code a model in Keras and the four steps leading to the evaluation of your model on the test set. Create->Compile->Fit/Train->Evaluate/Test."
      ]
    },
    {
      "cell_type": "markdown",
      "metadata": {
        "id": "-kxk2kWVCntm"
      },
      "source": [
        "## 4 - Test with your own image (Optional)\n",
        "\n",
        "Congratulations on finishing this assignment. You can now take a picture of your face and see if you could enter the Happy House. To do that:\n",
        "    1. Click on \"File\" in the upper bar of this notebook, then click \"Open\" to go on your Coursera Hub.\n",
        "    2. Add your image to this Jupyter Notebook's directory, in the \"images\" folder\n",
        "    3. Write your image's name in the following code\n",
        "    4. Run the code and check if the algorithm is right (0 is unhappy, 1 is happy)!\n",
        "    \n",
        "The training/test sets were quite similar; for example, all the pictures were taken against the same background (since a front door camera is always mounted in the same position). This makes the problem easier, but a model trained on this data may or may not work on your own data. But feel free to give it a try! "
      ]
    },
    {
      "cell_type": "code",
      "source": [
        "from google.colab import files\n",
        "#Upload \"my_image.jpg\" file\n",
        "uploaded = files.upload()"
      ],
      "metadata": {
        "colab": {
          "base_uri": "https://localhost:8080/",
          "height": 75
        },
        "id": "XYVUB46_-LOY",
        "outputId": "9e22d0ca-4d1b-4b86-9de8-8767af413f95"
      },
      "execution_count": 10,
      "outputs": [
        {
          "output_type": "display_data",
          "data": {
            "text/plain": [
              "<IPython.core.display.HTML object>"
            ],
            "text/html": [
              "\n",
              "     <input type=\"file\" id=\"files-5fad4975-9066-414e-b7fc-0904a4a60698\" name=\"files[]\" multiple disabled\n",
              "        style=\"border:none\" />\n",
              "     <output id=\"result-5fad4975-9066-414e-b7fc-0904a4a60698\">\n",
              "      Upload widget is only available when the cell has been executed in the\n",
              "      current browser session. Please rerun this cell to enable.\n",
              "      </output>\n",
              "      <script>// Copyright 2017 Google LLC\n",
              "//\n",
              "// Licensed under the Apache License, Version 2.0 (the \"License\");\n",
              "// you may not use this file except in compliance with the License.\n",
              "// You may obtain a copy of the License at\n",
              "//\n",
              "//      http://www.apache.org/licenses/LICENSE-2.0\n",
              "//\n",
              "// Unless required by applicable law or agreed to in writing, software\n",
              "// distributed under the License is distributed on an \"AS IS\" BASIS,\n",
              "// WITHOUT WARRANTIES OR CONDITIONS OF ANY KIND, either express or implied.\n",
              "// See the License for the specific language governing permissions and\n",
              "// limitations under the License.\n",
              "\n",
              "/**\n",
              " * @fileoverview Helpers for google.colab Python module.\n",
              " */\n",
              "(function(scope) {\n",
              "function span(text, styleAttributes = {}) {\n",
              "  const element = document.createElement('span');\n",
              "  element.textContent = text;\n",
              "  for (const key of Object.keys(styleAttributes)) {\n",
              "    element.style[key] = styleAttributes[key];\n",
              "  }\n",
              "  return element;\n",
              "}\n",
              "\n",
              "// Max number of bytes which will be uploaded at a time.\n",
              "const MAX_PAYLOAD_SIZE = 100 * 1024;\n",
              "\n",
              "function _uploadFiles(inputId, outputId) {\n",
              "  const steps = uploadFilesStep(inputId, outputId);\n",
              "  const outputElement = document.getElementById(outputId);\n",
              "  // Cache steps on the outputElement to make it available for the next call\n",
              "  // to uploadFilesContinue from Python.\n",
              "  outputElement.steps = steps;\n",
              "\n",
              "  return _uploadFilesContinue(outputId);\n",
              "}\n",
              "\n",
              "// This is roughly an async generator (not supported in the browser yet),\n",
              "// where there are multiple asynchronous steps and the Python side is going\n",
              "// to poll for completion of each step.\n",
              "// This uses a Promise to block the python side on completion of each step,\n",
              "// then passes the result of the previous step as the input to the next step.\n",
              "function _uploadFilesContinue(outputId) {\n",
              "  const outputElement = document.getElementById(outputId);\n",
              "  const steps = outputElement.steps;\n",
              "\n",
              "  const next = steps.next(outputElement.lastPromiseValue);\n",
              "  return Promise.resolve(next.value.promise).then((value) => {\n",
              "    // Cache the last promise value to make it available to the next\n",
              "    // step of the generator.\n",
              "    outputElement.lastPromiseValue = value;\n",
              "    return next.value.response;\n",
              "  });\n",
              "}\n",
              "\n",
              "/**\n",
              " * Generator function which is called between each async step of the upload\n",
              " * process.\n",
              " * @param {string} inputId Element ID of the input file picker element.\n",
              " * @param {string} outputId Element ID of the output display.\n",
              " * @return {!Iterable<!Object>} Iterable of next steps.\n",
              " */\n",
              "function* uploadFilesStep(inputId, outputId) {\n",
              "  const inputElement = document.getElementById(inputId);\n",
              "  inputElement.disabled = false;\n",
              "\n",
              "  const outputElement = document.getElementById(outputId);\n",
              "  outputElement.innerHTML = '';\n",
              "\n",
              "  const pickedPromise = new Promise((resolve) => {\n",
              "    inputElement.addEventListener('change', (e) => {\n",
              "      resolve(e.target.files);\n",
              "    });\n",
              "  });\n",
              "\n",
              "  const cancel = document.createElement('button');\n",
              "  inputElement.parentElement.appendChild(cancel);\n",
              "  cancel.textContent = 'Cancel upload';\n",
              "  const cancelPromise = new Promise((resolve) => {\n",
              "    cancel.onclick = () => {\n",
              "      resolve(null);\n",
              "    };\n",
              "  });\n",
              "\n",
              "  // Wait for the user to pick the files.\n",
              "  const files = yield {\n",
              "    promise: Promise.race([pickedPromise, cancelPromise]),\n",
              "    response: {\n",
              "      action: 'starting',\n",
              "    }\n",
              "  };\n",
              "\n",
              "  cancel.remove();\n",
              "\n",
              "  // Disable the input element since further picks are not allowed.\n",
              "  inputElement.disabled = true;\n",
              "\n",
              "  if (!files) {\n",
              "    return {\n",
              "      response: {\n",
              "        action: 'complete',\n",
              "      }\n",
              "    };\n",
              "  }\n",
              "\n",
              "  for (const file of files) {\n",
              "    const li = document.createElement('li');\n",
              "    li.append(span(file.name, {fontWeight: 'bold'}));\n",
              "    li.append(span(\n",
              "        `(${file.type || 'n/a'}) - ${file.size} bytes, ` +\n",
              "        `last modified: ${\n",
              "            file.lastModifiedDate ? file.lastModifiedDate.toLocaleDateString() :\n",
              "                                    'n/a'} - `));\n",
              "    const percent = span('0% done');\n",
              "    li.appendChild(percent);\n",
              "\n",
              "    outputElement.appendChild(li);\n",
              "\n",
              "    const fileDataPromise = new Promise((resolve) => {\n",
              "      const reader = new FileReader();\n",
              "      reader.onload = (e) => {\n",
              "        resolve(e.target.result);\n",
              "      };\n",
              "      reader.readAsArrayBuffer(file);\n",
              "    });\n",
              "    // Wait for the data to be ready.\n",
              "    let fileData = yield {\n",
              "      promise: fileDataPromise,\n",
              "      response: {\n",
              "        action: 'continue',\n",
              "      }\n",
              "    };\n",
              "\n",
              "    // Use a chunked sending to avoid message size limits. See b/62115660.\n",
              "    let position = 0;\n",
              "    do {\n",
              "      const length = Math.min(fileData.byteLength - position, MAX_PAYLOAD_SIZE);\n",
              "      const chunk = new Uint8Array(fileData, position, length);\n",
              "      position += length;\n",
              "\n",
              "      const base64 = btoa(String.fromCharCode.apply(null, chunk));\n",
              "      yield {\n",
              "        response: {\n",
              "          action: 'append',\n",
              "          file: file.name,\n",
              "          data: base64,\n",
              "        },\n",
              "      };\n",
              "\n",
              "      let percentDone = fileData.byteLength === 0 ?\n",
              "          100 :\n",
              "          Math.round((position / fileData.byteLength) * 100);\n",
              "      percent.textContent = `${percentDone}% done`;\n",
              "\n",
              "    } while (position < fileData.byteLength);\n",
              "  }\n",
              "\n",
              "  // All done.\n",
              "  yield {\n",
              "    response: {\n",
              "      action: 'complete',\n",
              "    }\n",
              "  };\n",
              "}\n",
              "\n",
              "scope.google = scope.google || {};\n",
              "scope.google.colab = scope.google.colab || {};\n",
              "scope.google.colab._files = {\n",
              "  _uploadFiles,\n",
              "  _uploadFilesContinue,\n",
              "};\n",
              "})(self);\n",
              "</script> "
            ]
          },
          "metadata": {}
        },
        {
          "output_type": "stream",
          "name": "stdout",
          "text": [
            "Saving my_image.jpg to my_image (1).jpg\n"
          ]
        }
      ]
    },
    {
      "cell_type": "code",
      "execution_count": 11,
      "metadata": {
        "colab": {
          "base_uri": "https://localhost:8080/",
          "height": 303
        },
        "id": "iNvU144KCntm",
        "outputId": "98371ab7-01c2-42d8-cfdd-c8b0db2e1f8f"
      },
      "outputs": [
        {
          "output_type": "stream",
          "name": "stdout",
          "text": [
            "1/1 [==============================] - 0s 120ms/step\n",
            "[[0.6166286]]\n"
          ]
        },
        {
          "output_type": "display_data",
          "data": {
            "text/plain": [
              "<Figure size 432x288 with 1 Axes>"
            ],
            "image/png": "[encoded data removed]"
          },
          "metadata": {
            "needs_background": "light"
          }
        }
      ],
      "source": [
        "from PIL import Image\n",
        "from tensorflow.keras.preprocessing.image import img_to_array\n",
        "\n",
        "### START CODE HERE ###\n",
        "\n",
        "img_path = 'my_image.jpg'\n",
        "\n",
        "### END CODE HERE ###\n",
        "img = Image.open(img_path)\n",
        "img = img.resize((64,64))\n",
        "imshow(img)\n",
        "\n",
        "x = img_to_array(img)\n",
        "x = np.expand_dims(x, axis=0)\n",
        "x = preprocess_input(x)\n",
        "x = x/255\n",
        "print(happyModel.predict(x))"
      ]
    },
    {
      "cell_type": "markdown",
      "metadata": {
        "id": "SixdRgH2Cntn"
      },
      "source": [
        "## 5 - Other useful functions in Keras (Optional)\n",
        "\n",
        "Two other basic features of Keras that you'll find useful are:\n",
        "- `model.summary()`: prints the details of your layers in a table with the sizes of its inputs/outputs\n",
        "- `plot_model()`: plots your graph in a nice layout. You can even save it as \".png\" using SVG() if you'd like to share it on social media ;). It is saved in \"File\" then \"Open...\" in the upper bar of the notebook.\n",
        "\n",
        "Run the following code."
      ]
    },
    {
      "cell_type": "code",
      "execution_count": 12,
      "metadata": {
        "scrolled": false,
        "colab": {
          "base_uri": "https://localhost:8080/"
        },
        "id": "TVnFeimOCntn",
        "outputId": "153966f0-d9c5-4b43-a9a3-e9a3b4656333"
      },
      "outputs": [
        {
          "output_type": "stream",
          "name": "stdout",
          "text": [
            "Model: \"HappyModel\"\n",
            "_________________________________________________________________\n",
            " Layer (type)                Output Shape              Param #   \n",
            "=================================================================\n",
            " input_1 (InputLayer)        [(None, 64, 64, 3)]       0         \n",
            "                                                                 \n",
            " zero_padding2d (ZeroPadding  (None, 70, 70, 3)        0         \n",
            " 2D)                                                             \n",
            "                                                                 \n",
            " conv0 (Conv2D)              (None, 64, 64, 32)        4736      \n",
            "                                                                 \n",
            " bn0 (BatchNormalization)    (None, 64, 64, 32)        128       \n",
            "                                                                 \n",
            " activation (Activation)     (None, 64, 64, 32)        0         \n",
            "                                                                 \n",
            " max_pool (MaxPooling2D)     (None, 32, 32, 32)        0         \n",
            "                                                                 \n",
            " flatten (Flatten)           (None, 32768)             0         \n",
            "                                                                 \n",
            " fc (Dense)                  (None, 1)                 32769     \n",
            "                                                                 \n",
            "=================================================================\n",
            "Total params: 37,633\n",
            "Trainable params: 37,569\n",
            "Non-trainable params: 64\n",
            "_________________________________________________________________\n"
          ]
        }
      ],
      "source": [
        "happyModel.summary()"
      ]
    },
    {
      "cell_type": "code",
      "execution_count": 13,
      "metadata": {
        "colab": {
          "base_uri": "https://localhost:8080/",
          "height": 1000
        },
        "id": "jhwucSQECntn",
        "outputId": "b9663025-3fd5-4688-ba49-36f52770d0d6"
      },
      "outputs": [
        {
          "output_type": "execute_result",
          "data": {
            "text/plain": [
              "<IPython.core.display.SVG object>"
            ],
            "image/svg+xml": "<svg xmlns=\"http://www.w3.org/2000/svg\" xmlns:xlink=\"http://www.w3.org/1999/xlink\" width=\"287pt\" height=\"741pt\" viewBox=\"0.00 0.00 215.00 556.00\">\n<g id=\"graph0\" class=\"graph\" transform=\"scale(0.75 0.75) rotate(0) translate(4 552)\">\n<title>G</title>\n<polygon fill=\"white\" stroke=\"transparent\" points=\"-4,4 -4,-552 211,-552 211,4 -4,4\"/>\n<!-- 140410051796896 -->\n<g id=\"node1\" class=\"node\">\n<title>140410051796896</title>\n<polygon fill=\"none\" stroke=\"black\" points=\"36,-511.5 36,-547.5 171,-547.5 171,-511.5 36,-511.5\"/>\n<text text-anchor=\"middle\" x=\"65\" y=\"-525.8\" font-family=\"Times,serif\" font-size=\"14.00\">input_1</text>\n<polyline fill=\"none\" stroke=\"black\" points=\"94,-511.5 94,-547.5 \"/>\n<text text-anchor=\"middle\" x=\"132.5\" y=\"-525.8\" font-family=\"Times,serif\" font-size=\"14.00\">InputLayer</text>\n</g>\n<!-- 140407807846336 -->\n<g id=\"node2\" class=\"node\">\n<title>140407807846336</title>\n<polygon fill=\"none\" stroke=\"black\" points=\"0,-438.5 0,-474.5 207,-474.5 207,-438.5 0,-438.5\"/>\n<text text-anchor=\"middle\" x=\"52\" y=\"-452.8\" font-family=\"Times,serif\" font-size=\"14.00\">zero_padding2d</text>\n<polyline fill=\"none\" stroke=\"black\" points=\"104,-438.5 104,-474.5 \"/>\n<text text-anchor=\"middle\" x=\"155.5\" y=\"-452.8\" font-family=\"Times,serif\" font-size=\"14.00\">ZeroPadding2D</text>\n</g>\n<!-- 140410051796896&#45;&gt;140407807846336 -->\n<g id=\"edge1\" class=\"edge\">\n<title>140410051796896-&gt;140407807846336</title>\n<path fill=\"none\" stroke=\"black\" d=\"M103.5,-511.31C103.5,-503.29 103.5,-493.55 103.5,-484.57\"/>\n<polygon fill=\"black\" stroke=\"black\" points=\"107,-484.53 103.5,-474.53 100,-484.53 107,-484.53\"/>\n</g>\n<!-- 140410051793296 -->\n<g id=\"node3\" class=\"node\">\n<title>140410051793296</title>\n<polygon fill=\"none\" stroke=\"black\" points=\"47.5,-365.5 47.5,-401.5 159.5,-401.5 159.5,-365.5 47.5,-365.5\"/>\n<text text-anchor=\"middle\" x=\"72.5\" y=\"-379.8\" font-family=\"Times,serif\" font-size=\"14.00\">conv0</text>\n<polyline fill=\"none\" stroke=\"black\" points=\"97.5,-365.5 97.5,-401.5 \"/>\n<text text-anchor=\"middle\" x=\"128.5\" y=\"-379.8\" font-family=\"Times,serif\" font-size=\"14.00\">Conv2D</text>\n</g>\n<!-- 140407807846336&#45;&gt;140410051793296 -->\n<g id=\"edge2\" class=\"edge\">\n<title>140407807846336-&gt;140410051793296</title>\n<path fill=\"none\" stroke=\"black\" d=\"M103.5,-438.31C103.5,-430.29 103.5,-420.55 103.5,-411.57\"/>\n<polygon fill=\"black\" stroke=\"black\" points=\"107,-411.53 103.5,-401.53 100,-411.53 107,-411.53\"/>\n</g>\n<!-- 140410051387152 -->\n<g id=\"node4\" class=\"node\">\n<title>140410051387152</title>\n<polygon fill=\"none\" stroke=\"black\" points=\"21.5,-292.5 21.5,-328.5 185.5,-328.5 185.5,-292.5 21.5,-292.5\"/>\n<text text-anchor=\"middle\" x=\"40\" y=\"-306.8\" font-family=\"Times,serif\" font-size=\"14.00\">bn0</text>\n<polyline fill=\"none\" stroke=\"black\" points=\"58.5,-292.5 58.5,-328.5 \"/>\n<text text-anchor=\"middle\" x=\"122\" y=\"-306.8\" font-family=\"Times,serif\" font-size=\"14.00\">BatchNormalization</text>\n</g>\n<!-- 140410051793296&#45;&gt;140410051387152 -->\n<g id=\"edge3\" class=\"edge\">\n<title>140410051793296-&gt;140410051387152</title>\n<path fill=\"none\" stroke=\"black\" d=\"M103.5,-365.31C103.5,-357.29 103.5,-347.55 103.5,-338.57\"/>\n<polygon fill=\"black\" stroke=\"black\" points=\"107,-338.53 103.5,-328.53 100,-338.53 107,-338.53\"/>\n</g>\n<!-- 140407807404592 -->\n<g id=\"node5\" class=\"node\">\n<title>140407807404592</title>\n<polygon fill=\"none\" stroke=\"black\" points=\"31.5,-219.5 31.5,-255.5 175.5,-255.5 175.5,-219.5 31.5,-219.5\"/>\n<text text-anchor=\"middle\" x=\"66.5\" y=\"-233.8\" font-family=\"Times,serif\" font-size=\"14.00\">activation</text>\n<polyline fill=\"none\" stroke=\"black\" points=\"101.5,-219.5 101.5,-255.5 \"/>\n<text text-anchor=\"middle\" x=\"138.5\" y=\"-233.8\" font-family=\"Times,serif\" font-size=\"14.00\">Activation</text>\n</g>\n<!-- 140410051387152&#45;&gt;140407807404592 -->\n<g id=\"edge4\" class=\"edge\">\n<title>140410051387152-&gt;140407807404592</title>\n<path fill=\"none\" stroke=\"black\" d=\"M103.5,-292.31C103.5,-284.29 103.5,-274.55 103.5,-265.57\"/>\n<polygon fill=\"black\" stroke=\"black\" points=\"107,-265.53 103.5,-255.53 100,-265.53 107,-265.53\"/>\n</g>\n<!-- 140407806769808 -->\n<g id=\"node6\" class=\"node\">\n<title>140407806769808</title>\n<polygon fill=\"none\" stroke=\"black\" points=\"17.5,-146.5 17.5,-182.5 189.5,-182.5 189.5,-146.5 17.5,-146.5\"/>\n<text text-anchor=\"middle\" x=\"53\" y=\"-160.8\" font-family=\"Times,serif\" font-size=\"14.00\">max_pool</text>\n<polyline fill=\"none\" stroke=\"black\" points=\"88.5,-146.5 88.5,-182.5 \"/>\n<text text-anchor=\"middle\" x=\"139\" y=\"-160.8\" font-family=\"Times,serif\" font-size=\"14.00\">MaxPooling2D</text>\n</g>\n<!-- 140407807404592&#45;&gt;140407806769808 -->\n<g id=\"edge5\" class=\"edge\">\n<title>140407807404592-&gt;140407806769808</title>\n<path fill=\"none\" stroke=\"black\" d=\"M103.5,-219.31C103.5,-211.29 103.5,-201.55 103.5,-192.57\"/>\n<polygon fill=\"black\" stroke=\"black\" points=\"107,-192.53 103.5,-182.53 100,-192.53 107,-192.53\"/>\n</g>\n<!-- 140407806769760 -->\n<g id=\"node7\" class=\"node\">\n<title>140407806769760</title>\n<polygon fill=\"none\" stroke=\"black\" points=\"51,-73.5 51,-109.5 156,-109.5 156,-73.5 51,-73.5\"/>\n<text text-anchor=\"middle\" x=\"76.5\" y=\"-87.8\" font-family=\"Times,serif\" font-size=\"14.00\">flatten</text>\n<polyline fill=\"none\" stroke=\"black\" points=\"102,-73.5 102,-109.5 \"/>\n<text text-anchor=\"middle\" x=\"129\" y=\"-87.8\" font-family=\"Times,serif\" font-size=\"14.00\">Flatten</text>\n</g>\n<!-- 140407806769808&#45;&gt;140407806769760 -->\n<g id=\"edge6\" class=\"edge\">\n<title>140407806769808-&gt;140407806769760</title>\n<path fill=\"none\" stroke=\"black\" d=\"M103.5,-146.31C103.5,-138.29 103.5,-128.55 103.5,-119.57\"/>\n<polygon fill=\"black\" stroke=\"black\" points=\"107,-119.53 103.5,-109.53 100,-119.53 107,-119.53\"/>\n</g>\n<!-- 140407806445936 -->\n<g id=\"node8\" class=\"node\">\n<title>140407806445936</title>\n<polygon fill=\"none\" stroke=\"black\" points=\"65,-0.5 65,-36.5 142,-36.5 142,-0.5 65,-0.5\"/>\n<text text-anchor=\"middle\" x=\"78.5\" y=\"-14.8\" font-family=\"Times,serif\" font-size=\"14.00\">fc</text>\n<polyline fill=\"none\" stroke=\"black\" points=\"92,-0.5 92,-36.5 \"/>\n<text text-anchor=\"middle\" x=\"117\" y=\"-14.8\" font-family=\"Times,serif\" font-size=\"14.00\">Dense</text>\n</g>\n<!-- 140407806769760&#45;&gt;140407806445936 -->\n<g id=\"edge7\" class=\"edge\">\n<title>140407806769760-&gt;140407806445936</title>\n<path fill=\"none\" stroke=\"black\" d=\"M103.5,-73.31C103.5,-65.29 103.5,-55.55 103.5,-46.57\"/>\n<polygon fill=\"black\" stroke=\"black\" points=\"107,-46.53 103.5,-36.53 100,-46.53 107,-46.53\"/>\n</g>\n</g>\n</svg>"
          },
          "metadata": {},
          "execution_count": 13
        }
      ],
      "source": [
        "plot_model(happyModel, to_file='HappyModel.png')\n",
        "SVG(model_to_dot(happyModel).create(prog='dot', format='svg'))"
      ]
    }
  ],
  "metadata": {
    "kernelspec": {
      "display_name": "Python 3",
      "language": "python",
      "name": "python3"
    },
    "language_info": {
      "codemirror_mode": {
        "name": "ipython",
        "version": 3
      },
      "file_extension": ".py",
      "mimetype": "text/x-python",
      "name": "python",
      "nbconvert_exporter": "python",
      "pygments_lexer": "ipython3",
      "version": "3.6.8"
    },
    "colab": {
      "provenance": []
    }
  },
  "nbformat": 4,
  "nbformat_minor": 0
}